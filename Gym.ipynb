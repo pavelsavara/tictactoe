{
 "cells": [
  {
   "cell_type": "code",
   "execution_count": 187,
   "metadata": {},
   "outputs": [
    {
     "name": "stdout",
     "output_type": "stream",
     "text": [
      "The autoreload extension is already loaded. To reload it, use:\n",
      "  %reload_ext autoreload\n"
     ]
    }
   ],
   "source": [
    "%load_ext autoreload\n",
    "import numpy as np\n",
    "from game import Game, Board\n",
    "import gym\n",
    "ttt=TicTacToeEnv()"
   ]
  },
  {
   "cell_type": "code",
   "execution_count": 186,
   "metadata": {},
   "outputs": [
    {
     "name": "stdout",
     "output_type": "stream",
     "text": [
      "[0, 0, 0, 0, 1, 0, 0, 0, 0]\n",
      "<agents.SmartAgent object at 0x7faed5cbc5c0>\n",
      "---\n",
      "-X-\n",
      "---\n",
      "([0, 0, 0, 3, 1, 0, 0, 1, 0], 0.0, False, {'reason': 'not settled'})\n",
      "---\n",
      "OX-\n",
      "-X-\n",
      "([0, 3, 0, 3, 1, 0, 0, 1, 1], 0.0, False, {'reason': 'not settled'})\n",
      "-O-\n",
      "OX-\n",
      "-XX\n",
      "([0, 0, 0, 0, 0, 0, 0, 0, 0], -0.99, True, {'reason': 'you loose2!'})\n",
      "---\n",
      "---\n",
      "---\n"
     ]
    }
   ],
   "source": [
    "%autoreload\n",
    "from agents import SmartAgent,RandomAgent\n",
    "agent=RandomAgent()\n",
    "\n",
    "print(ttt.reset())\n",
    "print(ttt.oponent)\n",
    "print(ttt.game.board.toNice())\n",
    "\n",
    "res = (None,False,None,None)\n",
    "while not res[2]:\n",
    "    wemove = agent.getMove(ttt.game)\n",
    "    #print(wemove)\n",
    "    res = ttt.step(wemove)\n",
    "    print(res)\n",
    "    print(ttt.game.board.toNice())\n"
   ]
  }
 ],
 "metadata": {
  "kernelspec": {
   "display_name": "Python 3",
   "language": "python",
   "name": "python3"
  },
  "language_info": {
   "codemirror_mode": {
    "name": "ipython",
    "version": 3
   },
   "file_extension": ".py",
   "mimetype": "text/x-python",
   "name": "python",
   "nbconvert_exporter": "python",
   "pygments_lexer": "ipython3",
   "version": "3.6.7"
  }
 },
 "nbformat": 4,
 "nbformat_minor": 2
}
