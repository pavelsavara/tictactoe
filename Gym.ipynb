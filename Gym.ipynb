{
 "cells": [
  {
   "cell_type": "code",
   "execution_count": 1,
   "metadata": {},
   "outputs": [],
   "source": [
    "%load_ext autoreload\n",
    "import numpy as np\n",
    "from game import Game\n",
    "from game import Board\n",
    "import spinup\n",
    "import gym\n",
    "\n"
   ]
  },
  {
   "cell_type": "code",
   "execution_count": 2,
   "metadata": {},
   "outputs": [],
   "source": [
    "%autoreload\n",
    "from tttenv import TicTacToeEnv\n",
    "\n",
    "ttt=TicTacToeEnv()\n"
   ]
  },
  {
   "cell_type": "code",
   "execution_count": 30,
   "metadata": {},
   "outputs": [
    {
     "name": "stdout",
     "output_type": "stream",
     "text": [
      "[0, 0, 0, 0, 0, 0, 0, 0, 0]\n",
      "[0, 0, 0, 0, 0, 0, 0, 0, 0]\n",
      "[0, 0, 0, 0, 0, 0, 0, 0, 0]\n",
      "[0, 1, 2, 3, 4, 5, 6, 7, 8]\n",
      "<class 'int'>\n",
      "3\n",
      "<class 'int'>\n",
      "O@---/X--/---\n",
      "[0, 0, 0, 1, 0, 0, 0, 0, 0]\n",
      "[0, 0, 0, 0, 0, 0, 0, 0, 0]\n",
      "[0, 1, 2, 3, 4, 5, 6, 7, 8]\n",
      "<class 'int'>\n",
      "1\n",
      "<class 'int'>\n",
      "O@-X-/---/---\n",
      "[0, 1, 0, 0, 0, 0, 0, 0, 0]\n",
      "[0, 1, 2, 3, 4, 5, 6, 7, 8]\n",
      "<class 'int'>\n",
      "5\n",
      "<class 'int'>\n",
      "O@---/--X/---\n",
      "[0, 0, 0, 0, 0, 1, 0, 0, 0]\n"
     ]
    }
   ],
   "source": [
    "%autoreload\n",
    "from agents import SmartAgent\n",
    "\n",
    "agent=SmartAgent()\n",
    "\n",
    "print(ttt.reset())\n",
    "print(ttt.reset())\n",
    "print(ttt.reset())\n",
    "print(ttt.reset())\n",
    "print(ttt.reset())\n",
    "print(ttt.reset())\n",
    "print(ttt.reset())\n"
   ]
  }
 ],
 "metadata": {
  "kernelspec": {
   "display_name": "Python 3",
   "language": "python",
   "name": "python3"
  },
  "language_info": {
   "codemirror_mode": {
    "name": "ipython",
    "version": 3
   },
   "file_extension": ".py",
   "mimetype": "text/x-python",
   "name": "python",
   "nbconvert_exporter": "python",
   "pygments_lexer": "ipython3",
   "version": "3.6.7"
  }
 },
 "nbformat": 4,
 "nbformat_minor": 2
}
