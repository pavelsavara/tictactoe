{
 "cells": [
  {
   "cell_type": "code",
   "execution_count": 2,
   "metadata": {},
   "outputs": [
    {
     "name": "stdout",
     "output_type": "stream",
     "text": [
      "The autoreload extension is already loaded. To reload it, use:\n",
      "  %reload_ext autoreload\n"
     ]
    }
   ],
   "source": [
    "%load_ext autoreload\n",
    "import numpy as np\n",
    "from game import Game\n",
    "from game import Board\n",
    "from agents import RandomAgent, SmartAgent\n",
    "from kreasAgent import KerasAgent, KerasModel\n",
    "km = KerasModel()"
   ]
  },
  {
   "cell_type": "code",
   "execution_count": 3,
   "metadata": {},
   "outputs": [
    {
     "name": "stdout",
     "output_type": "stream",
     "text": [
      "1.12.0\n",
      "2.1.6-tf\n",
      "['/device:CPU:0', '/device:GPU:0']\n"
     ]
    }
   ],
   "source": [
    "km.build()"
   ]
  },
  {
   "cell_type": "code",
   "execution_count": 5,
   "metadata": {},
   "outputs": [
    {
     "name": "stdout",
     "output_type": "stream",
     "text": [
      "game0\n",
      "game100\n",
      "game200\n",
      "game300\n",
      "game400\n",
      "game500\n",
      "game600\n",
      "game700\n",
      "game800\n",
      "game900\n",
      "game1000\n",
      "game1100\n",
      "game1200\n",
      "game1300\n",
      "game1400\n",
      "game1500\n",
      "game1600\n",
      "game1700\n",
      "game1800\n",
      "game1900\n",
      "game2000\n",
      "game2100\n",
      "game2200\n",
      "game2300\n",
      "game2400\n",
      "game2500\n",
      "game2600\n",
      "game2700\n",
      "game2800\n",
      "game2900\n",
      "game3000\n",
      "game3100\n",
      "game0\n",
      "game100\n",
      "game200\n",
      "game300\n",
      "game400\n",
      "game500\n",
      "game600\n",
      "[0. 0. 0. 0. 0. 0. 0. 0. 0. 0. 0. 0. 0. 0. 0. 0. 0. 1.]\n",
      "[0. 0. 0. 0. 1. 0. 0. 0. 0.]\n",
      "Train on 6959 samples, validate on 1431 samples\n",
      "Epoch 1/10\n",
      "6959/6959 [==============================] - 0s 11us/step - loss: 0.0775 - mean_absolute_error: 0.1428 - val_loss: 0.0731 - val_mean_absolute_error: 0.1460\n",
      "Epoch 2/10\n",
      "6959/6959 [==============================] - 0s 11us/step - loss: 0.0692 - mean_absolute_error: 0.1391 - val_loss: 0.0690 - val_mean_absolute_error: 0.1384\n",
      "Epoch 3/10\n",
      "6959/6959 [==============================] - 0s 11us/step - loss: 0.0650 - mean_absolute_error: 0.1325 - val_loss: 0.0653 - val_mean_absolute_error: 0.1310\n",
      "Epoch 4/10\n",
      "6959/6959 [==============================] - 0s 10us/step - loss: 0.0625 - mean_absolute_error: 0.1261 - val_loss: 0.0639 - val_mean_absolute_error: 0.1292\n",
      "Epoch 5/10\n",
      "6959/6959 [==============================] - 0s 13us/step - loss: 0.0602 - mean_absolute_error: 0.1229 - val_loss: 0.0628 - val_mean_absolute_error: 0.1253\n",
      "Epoch 6/10\n",
      "6959/6959 [==============================] - 0s 14us/step - loss: 0.0588 - mean_absolute_error: 0.1202 - val_loss: 0.0616 - val_mean_absolute_error: 0.1224\n",
      "Epoch 7/10\n",
      "6959/6959 [==============================] - 0s 10us/step - loss: 0.0571 - mean_absolute_error: 0.1164 - val_loss: 0.0599 - val_mean_absolute_error: 0.1196\n",
      "Epoch 8/10\n",
      "6959/6959 [==============================] - 0s 9us/step - loss: 0.0556 - mean_absolute_error: 0.1133 - val_loss: 0.0591 - val_mean_absolute_error: 0.1165\n",
      "Epoch 9/10\n",
      "6959/6959 [==============================] - 0s 8us/step - loss: 0.0552 - mean_absolute_error: 0.1126 - val_loss: 0.0594 - val_mean_absolute_error: 0.1159\n",
      "Epoch 10/10\n",
      "6959/6959 [==============================] - 0s 8us/step - loss: 0.0549 - mean_absolute_error: 0.1105 - val_loss: 0.0598 - val_mean_absolute_error: 0.1152\n"
     ]
    }
   ],
   "source": [
    "%autoreload\n",
    "km.train(dataSize=3200,batchSize=320)\n",
    "#samples = km.samples(320)\n",
    "#print(samples)\n"
   ]
  }
 ],
 "metadata": {
  "kernelspec": {
   "display_name": "Python 3",
   "language": "python",
   "name": "python3"
  },
  "language_info": {
   "codemirror_mode": {
    "name": "ipython",
    "version": 3
   },
   "file_extension": ".py",
   "mimetype": "text/x-python",
   "name": "python",
   "nbconvert_exporter": "python",
   "pygments_lexer": "ipython3",
   "version": "3.6.5"
  }
 },
 "nbformat": 4,
 "nbformat_minor": 2
}
