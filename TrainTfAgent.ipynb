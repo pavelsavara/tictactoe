{
 "cells": [
  {
   "cell_type": "code",
   "execution_count": 1,
   "metadata": {},
   "outputs": [],
   "source": [
    "%load_ext autoreload\n",
    "import numpy as np\n",
    "import random\n",
    "from game import Game\n",
    "from game import Board\n",
    "from agents import RandomAgent, SmartAgent\n",
    "from kreasAgent import KerasAgent, KerasModel\n",
    "km = KerasModel()"
   ]
  },
  {
   "cell_type": "code",
   "execution_count": 2,
   "metadata": {
    "scrolled": true
   },
   "outputs": [
    {
     "name": "stdout",
     "output_type": "stream",
     "text": [
      "1.12.0\n",
      "2.1.6-tf\n",
      "['/device:CPU:0', '/device:XLA_CPU:0']\n"
     ]
    }
   ],
   "source": [
    "km.build()"
   ]
  },
  {
   "cell_type": "code",
   "execution_count": 3,
   "metadata": {},
   "outputs": [],
   "source": [
    "km.load()"
   ]
  },
  {
   "cell_type": "markdown",
   "metadata": {},
   "source": [
    "%autoreload\n",
    "#km.train(dataSize=3200,batchSize=320)\n",
    "samples = km.samples(3200)\n",
    "#print(samples)\n",
    "print(samples[0][0])\n",
    "print(samples[1][0])\n",
    "print(samples[2][0])\n",
    "currentBoard = Board(samples[2][0][1])\n",
    "#print(type(samples[2][0][2]))\n",
    "#xx=samples[2][0][2]\n",
    "#yy=np.asscalar(xx)\n",
    "print(type(yy))\n",
    "finalBoard = Board(samples[2][0][2])\n",
    "print(currentBoard.toNice())\n",
    "print()\n",
    "print(finalBoard.toNice())\n"
   ]
  },
  {
   "cell_type": "code",
   "execution_count": null,
   "metadata": {
    "scrolled": true
   },
   "outputs": [],
   "source": [
    "%autoreload\n",
    "km.train(dataSize=6400,batchSize=320)"
   ]
  },
  {
   "cell_type": "code",
   "execution_count": null,
   "metadata": {},
   "outputs": [],
   "source": [
    "%autoreload\n",
    "km.save()"
   ]
  },
  {
   "cell_type": "code",
   "execution_count": 6,
   "metadata": {},
   "outputs": [
    {
     "name": "stdout",
     "output_type": "stream",
     "text": [
      "0\n"
     ]
    }
   ],
   "source": [
    "%autoreload\n",
    "from game import Game\n",
    "cn=0\n",
    "for i in range(200):\n",
    "    game = Game()\n",
    "    if random.randint(0, 10) % 2 == 0 :\n",
    "        x = KerasAgent(km)\n",
    "        y = RandomAgent()\n",
    "        keras= 'X'\n",
    "    else :\n",
    "        x = RandomAgent()\n",
    "        y = KerasAgent(km)\n",
    "        keras= 'O'\n",
    "        \n",
    "    winner = game.play(x, y)\n",
    "    if winner != 'T' and winner != keras:\n",
    "        cn=cn+1\n",
    "        print()\n",
    "        print(game.board.toNice())\n",
    "        print('winner '+winner + ' keras '+keras)\n",
    "        print(game.toHistoryString())\n",
    "print(cn)\n"
   ]
  },
  {
   "cell_type": "code",
   "execution_count": null,
   "metadata": {},
   "outputs": [],
   "source": []
  }
 ],
 "metadata": {
  "kernelspec": {
   "display_name": "Python 3",
   "language": "python",
   "name": "python3"
  },
  "language_info": {
   "codemirror_mode": {
    "name": "ipython",
    "version": 3
   },
   "file_extension": ".py",
   "mimetype": "text/x-python",
   "name": "python",
   "nbconvert_exporter": "python",
   "pygments_lexer": "ipython3",
   "version": "3.6.7"
  }
 },
 "nbformat": 4,
 "nbformat_minor": 2
}
